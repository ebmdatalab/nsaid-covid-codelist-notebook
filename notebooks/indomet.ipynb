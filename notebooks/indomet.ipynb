{
 "cells": [
  {
   "cell_type": "code",
   "execution_count": null,
   "metadata": {},
   "outputs": [],
   "source": [
    "The following notebook identifies NHS dm+d codes for indometacin at a AMP and VMP level. T\n",
    "- [indometacin prescribing volume](https://openprescribing.net/chemical/1001010K0/) on OpenPrescribing\n"
   ]
  },
  {
   "cell_type": "code",
   "execution_count": null,
   "metadata": {},
   "outputs": [],
   "source": [
    "#import libraries\n",
    "from ebmdatalab import bq\n",
    "import os\n",
    "import pandas as pd"
   ]
  },
  {
   "cell_type": "code",
   "execution_count": null,
   "metadata": {},
   "outputs": [],
   "source": [
    "sql = '''\n",
    "WITH bnf_codes AS (\n",
    "  SELECT bnf_code FROM hscic.presentation WHERE \n",
    "  bnf_code LIKE '1001010K0%'  #bnf indometacin\n",
    ")\n",
    "\n",
    "SELECT *\n",
    "FROM measures.dmd_objs_with_form_route\n",
    "WHERE bnf_code IN (SELECT * FROM bnf_codes) \n",
    "AND \n",
    "obj_type IN ('vmp', 'amp')\n",
    "AND\n",
    "form_route LIKE '%.oral%' \n",
    "ORDER BY obj_type, bnf_code, snomed_id\n",
    "'''\n",
    "\n",
    "indomet_codelist = bq.cached_read(sql, csv_path=os.path.join('..','data','cox2_codelist.csv'))\n",
    "pd.set_option('display.max_rows', None)\n",
    "pd.set_option('display.max_colwidth', None)\n",
    "cox2_codelist\n",
    "cox2_codelist"
   ]
  }
 ],
 "metadata": {
  "jupytext": {
   "cell_metadata_filter": "all",
   "notebook_metadata_filter": "all,-language_info",
   "text_representation": {
    "extension": ".py",
    "format_name": "light",
    "format_version": "1.5",
    "jupytext_version": "1.3.3"
   }
  },
  "kernelspec": {
   "display_name": "Python 3",
   "language": "python",
   "name": "python3"
  },
  "language_info": {
   "codemirror_mode": {
    "name": "ipython",
    "version": 3
   },
   "file_extension": ".py",
   "mimetype": "text/x-python",
   "name": "python",
   "nbconvert_exporter": "python",
   "pygments_lexer": "ipython3",
   "version": "3.8.1"
  }
 },
 "nbformat": 4,
 "nbformat_minor": 4
}
