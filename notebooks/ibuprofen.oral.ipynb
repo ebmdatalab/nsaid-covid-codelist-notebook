{
 "cells": [
  {
   "cell_type": "markdown",
   "metadata": {},
   "source": [
    "The following notebook identifies [NHS dm+d codes](https://ebmdatalab.net/what-is-the-dmd-the-nhs-dictionary-of-medicines-and-devices/) for oral ibuprofen at a AMP and VMP level. Current prescribing patterns\n",
    "- [ibuprofen prescribing volume](https://openprescribing.net/chemical/1001010J0/) on OpenPrescribing\n",
    "- [ibuprofen LYSINE prescribing volume](https://openprescribing.net/chemical/1001010AD/) on OpenPrescribing\n",
    "- [ibuprofen  SODIUM prescribing volume](https://openprescribing.net/chemical/1001010AP/) on OpenPrescribing"
   ]
  },
  {
   "cell_type": "code",
   "execution_count": null,
   "metadata": {},
   "outputs": [],
   "source": [
    "#import libraries\n",
    "from ebmdatalab import bq\n",
    "import os\n",
    "import pandas as pd"
   ]
  },
  {
   "cell_type": "code",
   "execution_count": null,
   "metadata": {},
   "outputs": [],
   "source": [
    "sql = '''\n",
    "WITH bnf_codes AS (\n",
    "  SELECT bnf_code FROM hscic.presentation WHERE \n",
    "  bnf_code LIKE '1001010J0%'  OR #ibuprofen\n",
    "  bnf_code LIKE '1001010AD%'  OR #ibuprofen lysine\n",
    "  bnf_code LIKE '1001010AP%'     #ibuprofen sodium\n",
    "  \n",
    ")\n",
    "\n",
    "SELECT *\n",
    "FROM measures.dmd_objs_with_form_route\n",
    "WHERE bnf_code IN (SELECT * FROM bnf_codes) \n",
    "AND \n",
    "obj_type IN ('vmp', 'amp')\n",
    "AND\n",
    "form_route LIKE '%.oral%' \n",
    "ORDER BY obj_type, bnf_code, snomed_id\n",
    "'''\n",
    "\n",
    "oral_ibuprofen_codelist = bq.cached_read(sql, csv_path=os.path.join('..','data','oral_ibuprofen_codelist.csv'))\n",
    "pd.set_option('display.max_rows', None)\n",
    "pd.set_option('display.max_colwidth', None)\n",
    "oral_ibuprofen_codelist"
   ]
  },
  {
   "cell_type": "code",
   "execution_count": null,
   "metadata": {},
   "outputs": [],
   "source": []
  }
 ],
 "metadata": {
  "jupytext": {
   "cell_metadata_filter": "all",
   "notebook_metadata_filter": "all,-language_info",
   "text_representation": {
    "extension": ".py",
    "format_name": "light",
    "format_version": "1.5",
    "jupytext_version": "1.3.3"
   }
  },
  "kernelspec": {
   "display_name": "Python 3",
   "language": "python",
   "name": "python3"
  },
  "language_info": {
   "codemirror_mode": {
    "name": "ipython",
    "version": 3
   },
   "file_extension": ".py",
   "mimetype": "text/x-python",
   "name": "python",
   "nbconvert_exporter": "python",
   "pygments_lexer": "ipython3",
   "version": "3.8.1"
  }
 },
 "nbformat": 4,
 "nbformat_minor": 4
}
