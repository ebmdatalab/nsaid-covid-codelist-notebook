{
 "cells": [
  {
   "cell_type": "markdown",
   "metadata": {},
   "source": [
    "The following notebook identifies NHS dm+d codes for celecoxib and etoricoxib at a AMP and VMP level. These are COX2 specific NSAIDs prescribied in England.\n",
    "- [celecoxib prescribing volume](https://openprescribing.net/chemical/1001010AH/) on OpenPrescribing\n",
    "- [etoricoxib prescribing volume](https://openprescribing.net/chemical/1001010AJ/) on OpenPrescribing"
   ]
  },
  {
   "cell_type": "code",
   "execution_count": 1,
   "metadata": {},
   "outputs": [],
   "source": [
    "#import libraries\n",
    "from ebmdatalab import bq\n",
    "import os\n",
    "import pandas as pd"
   ]
  },
  {
   "cell_type": "code",
   "execution_count": null,
   "metadata": {},
   "outputs": [
    {
     "name": "stdout",
     "output_type": "stream",
     "text": [
      "Please visit this URL to authorize this application: https://accounts.google.com/o/oauth2/auth?response_type=code&client_id=725825577420-unm2gnkiprugilg743tkbig250f4sfsj.apps.googleusercontent.com&redirect_uri=urn%3Aietf%3Awg%3Aoauth%3A2.0%3Aoob&scope=https%3A%2F%2Fwww.googleapis.com%2Fauth%2Fbigquery&state=oGBew3wwwOrGToMB74MmPKwqEzTV3m&prompt=consent&access_type=offline\n"
     ]
    }
   ],
   "source": [
    "sql = '''\n",
    "WITH bnf_codes AS (\n",
    "  SELECT bnf_code FROM hscic.presentation WHERE \n",
    "  bnf_code LIKE '1001010AJ%' or #bnf chemical naproxen\n",
    "  bnf_code LIKE '1001010AH%'    #bnf chemical naproxen  \n",
    ")\n",
    "\n",
    "SELECT *\n",
    "FROM measures.dmd_objs_with_form_route\n",
    "WHERE bnf_code IN (SELECT * FROM bnf_codes) \n",
    "AND \n",
    "obj_type IN ('vmp', 'amp')\n",
    "AND\n",
    "form_route LIKE '%.oral%' \n",
    "## AND\n",
    "## form_route NOT LIKE '%susp%' #this drops oral liquids ie suspensions\n",
    "ORDER BY obj_type, bnf_code, snomed_id\n",
    "'''\n",
    "\n",
    "\n",
    "cox2_codelist = bq.cached_read(sql, csv_path=os.path.join('..','data','cox2_codelist.csv'))\n",
    "pd.set_option('display.max_rows', None)\n",
    "pd.set_option('display.max_colwidth', None)\n",
    "cox2_codelist\n",
    "cox2_codelist"
   ]
  }
 ],
 "metadata": {
  "jupytext": {
   "cell_metadata_filter": "all",
   "notebook_metadata_filter": "all,-language_info",
   "text_representation": {
    "extension": ".py",
    "format_name": "light",
    "format_version": "1.5",
    "jupytext_version": "1.3.3"
   }
  },
  "kernelspec": {
   "display_name": "Python 3",
   "language": "python",
   "name": "python3"
  },
  "language_info": {
   "codemirror_mode": {
    "name": "ipython",
    "version": 3
   },
   "file_extension": ".py",
   "mimetype": "text/x-python",
   "name": "python",
   "nbconvert_exporter": "python",
   "pygments_lexer": "ipython3",
   "version": "3.8.1"
  }
 },
 "nbformat": 4,
 "nbformat_minor": 4
}
